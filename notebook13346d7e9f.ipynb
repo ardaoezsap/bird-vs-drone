{
 "cells": [
  {
   "cell_type": "markdown",
   "id": "add806af",
   "metadata": {
    "papermill": {
     "duration": 0.00455,
     "end_time": "2025-04-17T19:17:22.591037",
     "exception": false,
     "start_time": "2025-04-17T19:17:22.586487",
     "status": "completed"
    },
    "tags": []
   },
   "source": [
    "# Breast Cancer Classification with Logistic Regression and Neural Networks  \n",
    "\n",
    "**Objective**:  \n",
    "This notebook demonstrates how to classify breast cancer tumors as benign (0) or malignant (1) using:  \n",
    "1. **Logistic Regression** (from scratch using PyTorch)  \n",
    "2. **A Simple Neural Network** (built with PyTorch)  \n",
    "\n",
    "**Dataset**:  \n",
    "The [Breast Cancer Wisconsin (Diagnostic) Dataset](https://archive.ics.uci.edu/ml/datasets/Breast+Cancer+Wisconsin+(Diagnostic)) contains features computed from digitized images of breast mass biopsies.  \n",
    "- **Features**: `clump_thickness`, `uniformity_cell_size`, etc.  \n",
    "- **Target**: `class` (2 = benign, 4 = malignant → mapped to 0 and 1).  "
   ]
  },
  {
   "cell_type": "markdown",
   "id": "dce73057",
   "metadata": {
    "papermill": {
     "duration": 0.003432,
     "end_time": "2025-04-17T19:17:22.598332",
     "exception": false,
     "start_time": "2025-04-17T19:17:22.594900",
     "status": "completed"
    },
    "tags": []
   },
   "source": [
    "### Data Exploration  \n",
    "- **Missing Values**: We check for missing data (like the `bare_nuclei` column with '?' entries).  \n",
    "- **Class Balance**: Visualizing the target variable to check for imbalance.  "
   ]
  },
  {
   "cell_type": "code",
   "execution_count": 1,
   "id": "76c03e99",
   "metadata": {
    "_cell_guid": "b1076dfc-b9ad-4769-8c92-a6c4dae69d19",
    "_uuid": "8f2839f25d086af736a60e9eeb907d3b93b6e0e5",
    "execution": {
     "iopub.execute_input": "2025-04-17T19:17:22.606225Z",
     "iopub.status.busy": "2025-04-17T19:17:22.605920Z",
     "iopub.status.idle": "2025-04-17T19:17:24.622979Z",
     "shell.execute_reply": "2025-04-17T19:17:24.622175Z"
    },
    "papermill": {
     "duration": 2.022598,
     "end_time": "2025-04-17T19:17:24.624373",
     "exception": false,
     "start_time": "2025-04-17T19:17:22.601775",
     "status": "completed"
    },
    "tags": []
   },
   "outputs": [
    {
     "data": {
      "text/html": [
       "<div>\n",
       "<style scoped>\n",
       "    .dataframe tbody tr th:only-of-type {\n",
       "        vertical-align: middle;\n",
       "    }\n",
       "\n",
       "    .dataframe tbody tr th {\n",
       "        vertical-align: top;\n",
       "    }\n",
       "\n",
       "    .dataframe thead th {\n",
       "        text-align: right;\n",
       "    }\n",
       "</style>\n",
       "<table border=\"1\" class=\"dataframe\">\n",
       "  <thead>\n",
       "    <tr style=\"text-align: right;\">\n",
       "      <th></th>\n",
       "      <th>id</th>\n",
       "      <th>clump_thickness</th>\n",
       "      <th>uniformity_cell_size</th>\n",
       "      <th>uniformity_cell_shape</th>\n",
       "      <th>marginal_adhesion</th>\n",
       "      <th>single_epithelial_cell_size</th>\n",
       "      <th>bare_nuclei</th>\n",
       "      <th>bland_chromatin</th>\n",
       "      <th>normal_nucleoli</th>\n",
       "      <th>mitoses</th>\n",
       "      <th>class</th>\n",
       "    </tr>\n",
       "  </thead>\n",
       "  <tbody>\n",
       "    <tr>\n",
       "      <th>0</th>\n",
       "      <td>1000025</td>\n",
       "      <td>5</td>\n",
       "      <td>1</td>\n",
       "      <td>1</td>\n",
       "      <td>1</td>\n",
       "      <td>2</td>\n",
       "      <td>1</td>\n",
       "      <td>3</td>\n",
       "      <td>1</td>\n",
       "      <td>1</td>\n",
       "      <td>2</td>\n",
       "    </tr>\n",
       "    <tr>\n",
       "      <th>1</th>\n",
       "      <td>1002945</td>\n",
       "      <td>5</td>\n",
       "      <td>4</td>\n",
       "      <td>4</td>\n",
       "      <td>5</td>\n",
       "      <td>7</td>\n",
       "      <td>10</td>\n",
       "      <td>3</td>\n",
       "      <td>2</td>\n",
       "      <td>1</td>\n",
       "      <td>2</td>\n",
       "    </tr>\n",
       "    <tr>\n",
       "      <th>2</th>\n",
       "      <td>1015425</td>\n",
       "      <td>3</td>\n",
       "      <td>1</td>\n",
       "      <td>1</td>\n",
       "      <td>1</td>\n",
       "      <td>2</td>\n",
       "      <td>2</td>\n",
       "      <td>3</td>\n",
       "      <td>1</td>\n",
       "      <td>1</td>\n",
       "      <td>2</td>\n",
       "    </tr>\n",
       "    <tr>\n",
       "      <th>3</th>\n",
       "      <td>1016277</td>\n",
       "      <td>6</td>\n",
       "      <td>8</td>\n",
       "      <td>8</td>\n",
       "      <td>1</td>\n",
       "      <td>3</td>\n",
       "      <td>4</td>\n",
       "      <td>3</td>\n",
       "      <td>7</td>\n",
       "      <td>1</td>\n",
       "      <td>2</td>\n",
       "    </tr>\n",
       "    <tr>\n",
       "      <th>4</th>\n",
       "      <td>1017023</td>\n",
       "      <td>4</td>\n",
       "      <td>1</td>\n",
       "      <td>1</td>\n",
       "      <td>3</td>\n",
       "      <td>2</td>\n",
       "      <td>1</td>\n",
       "      <td>3</td>\n",
       "      <td>1</td>\n",
       "      <td>1</td>\n",
       "      <td>2</td>\n",
       "    </tr>\n",
       "  </tbody>\n",
       "</table>\n",
       "</div>"
      ],
      "text/plain": [
       "        id  clump_thickness  uniformity_cell_size  uniformity_cell_shape  \\\n",
       "0  1000025                5                     1                      1   \n",
       "1  1002945                5                     4                      4   \n",
       "2  1015425                3                     1                      1   \n",
       "3  1016277                6                     8                      8   \n",
       "4  1017023                4                     1                      1   \n",
       "\n",
       "   marginal_adhesion  single_epithelial_cell_size bare_nuclei  \\\n",
       "0                  1                            2           1   \n",
       "1                  5                            7          10   \n",
       "2                  1                            2           2   \n",
       "3                  1                            3           4   \n",
       "4                  3                            2           1   \n",
       "\n",
       "   bland_chromatin  normal_nucleoli  mitoses  class  \n",
       "0                3                1        1      2  \n",
       "1                3                2        1      2  \n",
       "2                3                1        1      2  \n",
       "3                3                7        1      2  \n",
       "4                3                1        1      2  "
      ]
     },
     "execution_count": 1,
     "metadata": {},
     "output_type": "execute_result"
    }
   ],
   "source": [
    "import pandas as pd\n",
    "\n",
    "# Load the dataset from UCI archive\n",
    "column_names = [\n",
    "    'id', 'clump_thickness', 'uniformity_cell_size', 'uniformity_cell_shape',\n",
    "    'marginal_adhesion', 'single_epithelial_cell_size', 'bare_nuclei',\n",
    "    'bland_chromatin', 'normal_nucleoli', 'mitoses', 'class'\n",
    "]\n",
    "\n",
    "url = \"https://archive.ics.uci.edu/ml/machine-learning-databases/breast-cancer-wisconsin/breast-cancer-wisconsin.data\"\n",
    "\n",
    "df = pd.read_csv(url, names=column_names)\n",
    "df.head()\n"
   ]
  },
  {
   "cell_type": "code",
   "execution_count": 2,
   "id": "0f3ab80c",
   "metadata": {
    "execution": {
     "iopub.execute_input": "2025-04-17T19:17:24.633251Z",
     "iopub.status.busy": "2025-04-17T19:17:24.632996Z",
     "iopub.status.idle": "2025-04-17T19:17:24.934948Z",
     "shell.execute_reply": "2025-04-17T19:17:24.934298Z"
    },
    "papermill": {
     "duration": 0.307606,
     "end_time": "2025-04-17T19:17:24.936205",
     "exception": false,
     "start_time": "2025-04-17T19:17:24.628599",
     "status": "completed"
    },
    "tags": []
   },
   "outputs": [
    {
     "name": "stdout",
     "output_type": "stream",
     "text": [
      "Missing values:\n",
      " id                             0\n",
      "clump_thickness                0\n",
      "uniformity_cell_size           0\n",
      "uniformity_cell_shape          0\n",
      "marginal_adhesion              0\n",
      "single_epithelial_cell_size    0\n",
      "bare_nuclei                    0\n",
      "bland_chromatin                0\n",
      "normal_nucleoli                0\n",
      "mitoses                        0\n",
      "class                          0\n",
      "dtype: int64\n"
     ]
    },
    {
     "data": {
      "image/png": "[encoded data removed]",
      "text/plain": [
       "<Figure size 600x400 with 1 Axes>"
      ]
     },
     "metadata": {},
     "output_type": "display_data"
    }
   ],
   "source": [
    "# Check for missing values\n",
    "print(\"Missing values:\\n\", df.isna().sum())\n",
    "\n",
    "# Visualize class distribution\n",
    "import matplotlib.pyplot as plt\n",
    "plt.figure(figsize=(6, 4))\n",
    "df['class'].value_counts().plot(kind='bar', color=['skyblue', 'salmon'])\n",
    "plt.title(\"Class Distribution (0: Benign, 1: Malignant)\")\n",
    "plt.xticks(rotation=0)\n",
    "plt.show()"
   ]
  },
  {
   "cell_type": "code",
   "execution_count": 3,
   "id": "6b802b54",
   "metadata": {
    "execution": {
     "iopub.execute_input": "2025-04-17T19:17:24.945263Z",
     "iopub.status.busy": "2025-04-17T19:17:24.945028Z",
     "iopub.status.idle": "2025-04-17T19:17:24.953898Z",
     "shell.execute_reply": "2025-04-17T19:17:24.953244Z"
    },
    "papermill": {
     "duration": 0.014621,
     "end_time": "2025-04-17T19:17:24.955059",
     "exception": false,
     "start_time": "2025-04-17T19:17:24.940438",
     "status": "completed"
    },
    "tags": []
   },
   "outputs": [
    {
     "data": {
      "text/html": [
       "<div>\n",
       "<style scoped>\n",
       "    .dataframe tbody tr th:only-of-type {\n",
       "        vertical-align: middle;\n",
       "    }\n",
       "\n",
       "    .dataframe tbody tr th {\n",
       "        vertical-align: top;\n",
       "    }\n",
       "\n",
       "    .dataframe thead th {\n",
       "        text-align: right;\n",
       "    }\n",
       "</style>\n",
       "<table border=\"1\" class=\"dataframe\">\n",
       "  <thead>\n",
       "    <tr style=\"text-align: right;\">\n",
       "      <th></th>\n",
       "      <th>bare_nuclei</th>\n",
       "    </tr>\n",
       "  </thead>\n",
       "  <tbody>\n",
       "    <tr>\n",
       "      <th>count</th>\n",
       "      <td>699</td>\n",
       "    </tr>\n",
       "    <tr>\n",
       "      <th>unique</th>\n",
       "      <td>11</td>\n",
       "    </tr>\n",
       "    <tr>\n",
       "      <th>top</th>\n",
       "      <td>1</td>\n",
       "    </tr>\n",
       "    <tr>\n",
       "      <th>freq</th>\n",
       "      <td>402</td>\n",
       "    </tr>\n",
       "  </tbody>\n",
       "</table>\n",
       "</div>"
      ],
      "text/plain": [
       "       bare_nuclei\n",
       "count          699\n",
       "unique          11\n",
       "top              1\n",
       "freq           402"
      ]
     },
     "execution_count": 3,
     "metadata": {},
     "output_type": "execute_result"
    }
   ],
   "source": [
    "df.describe(include=[object])\n"
   ]
  },
  {
   "cell_type": "markdown",
   "id": "d6dc8edc",
   "metadata": {
    "papermill": {
     "duration": 0.003754,
     "end_time": "2025-04-17T19:17:24.962885",
     "exception": false,
     "start_time": "2025-04-17T19:17:24.959131",
     "status": "completed"
    },
    "tags": []
   },
   "source": [
    "### Data Preprocessing  \n",
    "1. **Handling Missing Values**: The `bare_nuclei` column had '?' entries, replaced with the mode (most frequent value).  \n",
    "2. **Normalization**: Features are standardized (mean=0, std=1) to help models converge faster.  "
   ]
  },
  {
   "cell_type": "code",
   "execution_count": 4,
   "id": "8108e2a9",
   "metadata": {
    "execution": {
     "iopub.execute_input": "2025-04-17T19:17:24.971423Z",
     "iopub.status.busy": "2025-04-17T19:17:24.971210Z",
     "iopub.status.idle": "2025-04-17T19:17:24.975613Z",
     "shell.execute_reply": "2025-04-17T19:17:24.975065Z"
    },
    "papermill": {
     "duration": 0.009865,
     "end_time": "2025-04-17T19:17:24.976643",
     "exception": false,
     "start_time": "2025-04-17T19:17:24.966778",
     "status": "completed"
    },
    "tags": []
   },
   "outputs": [],
   "source": [
    "most_common = df['bare_nuclei'].mode()[0]\n",
    "df['bare_nuclei'] = df['bare_nuclei'].replace('?', most_common)"
   ]
  },
  {
   "cell_type": "code",
   "execution_count": 5,
   "id": "5e4b7497",
   "metadata": {
    "execution": {
     "iopub.execute_input": "2025-04-17T19:17:24.985034Z",
     "iopub.status.busy": "2025-04-17T19:17:24.984824Z",
     "iopub.status.idle": "2025-04-17T19:17:24.988197Z",
     "shell.execute_reply": "2025-04-17T19:17:24.987637Z"
    },
    "papermill": {
     "duration": 0.008689,
     "end_time": "2025-04-17T19:17:24.989166",
     "exception": false,
     "start_time": "2025-04-17T19:17:24.980477",
     "status": "completed"
    },
    "tags": []
   },
   "outputs": [],
   "source": [
    "df['bare_nuclei'] = df['bare_nuclei'].astype(float)"
   ]
  },
  {
   "cell_type": "code",
   "execution_count": 6,
   "id": "39ff4c26",
   "metadata": {
    "execution": {
     "iopub.execute_input": "2025-04-17T19:17:24.997457Z",
     "iopub.status.busy": "2025-04-17T19:17:24.997268Z",
     "iopub.status.idle": "2025-04-17T19:17:25.074372Z",
     "shell.execute_reply": "2025-04-17T19:17:25.073606Z"
    },
    "papermill": {
     "duration": 0.082601,
     "end_time": "2025-04-17T19:17:25.075513",
     "exception": false,
     "start_time": "2025-04-17T19:17:24.992912",
     "status": "completed"
    },
    "tags": []
   },
   "outputs": [
    {
     "data": {
      "text/html": [
       "<div>\n",
       "<style scoped>\n",
       "    .dataframe tbody tr th:only-of-type {\n",
       "        vertical-align: middle;\n",
       "    }\n",
       "\n",
       "    .dataframe tbody tr th {\n",
       "        vertical-align: top;\n",
       "    }\n",
       "\n",
       "    .dataframe thead th {\n",
       "        text-align: right;\n",
       "    }\n",
       "</style>\n",
       "<table border=\"1\" class=\"dataframe\">\n",
       "  <thead>\n",
       "    <tr style=\"text-align: right;\">\n",
       "      <th></th>\n",
       "      <th>id</th>\n",
       "      <th>clump_thickness</th>\n",
       "      <th>uniformity_cell_size</th>\n",
       "      <th>uniformity_cell_shape</th>\n",
       "      <th>marginal_adhesion</th>\n",
       "      <th>single_epithelial_cell_size</th>\n",
       "      <th>bare_nuclei</th>\n",
       "      <th>bland_chromatin</th>\n",
       "      <th>normal_nucleoli</th>\n",
       "      <th>mitoses</th>\n",
       "      <th>class</th>\n",
       "    </tr>\n",
       "  </thead>\n",
       "  <tbody>\n",
       "    <tr>\n",
       "      <th>count</th>\n",
       "      <td>6.990000e+02</td>\n",
       "      <td>699.000000</td>\n",
       "      <td>699.000000</td>\n",
       "      <td>699.000000</td>\n",
       "      <td>699.000000</td>\n",
       "      <td>699.000000</td>\n",
       "      <td>699.000000</td>\n",
       "      <td>699.000000</td>\n",
       "      <td>699.000000</td>\n",
       "      <td>699.000000</td>\n",
       "      <td>699.000000</td>\n",
       "    </tr>\n",
       "    <tr>\n",
       "      <th>mean</th>\n",
       "      <td>1.071704e+06</td>\n",
       "      <td>4.417740</td>\n",
       "      <td>3.134478</td>\n",
       "      <td>3.207439</td>\n",
       "      <td>2.806867</td>\n",
       "      <td>3.216023</td>\n",
       "      <td>3.486409</td>\n",
       "      <td>3.437768</td>\n",
       "      <td>2.866953</td>\n",
       "      <td>1.589413</td>\n",
       "      <td>2.689557</td>\n",
       "    </tr>\n",
       "    <tr>\n",
       "      <th>std</th>\n",
       "      <td>6.170957e+05</td>\n",
       "      <td>2.815741</td>\n",
       "      <td>3.051459</td>\n",
       "      <td>2.971913</td>\n",
       "      <td>2.855379</td>\n",
       "      <td>2.214300</td>\n",
       "      <td>3.621929</td>\n",
       "      <td>2.438364</td>\n",
       "      <td>3.053634</td>\n",
       "      <td>1.715078</td>\n",
       "      <td>0.951273</td>\n",
       "    </tr>\n",
       "    <tr>\n",
       "      <th>min</th>\n",
       "      <td>6.163400e+04</td>\n",
       "      <td>1.000000</td>\n",
       "      <td>1.000000</td>\n",
       "      <td>1.000000</td>\n",
       "      <td>1.000000</td>\n",
       "      <td>1.000000</td>\n",
       "      <td>1.000000</td>\n",
       "      <td>1.000000</td>\n",
       "      <td>1.000000</td>\n",
       "      <td>1.000000</td>\n",
       "      <td>2.000000</td>\n",
       "    </tr>\n",
       "    <tr>\n",
       "      <th>25%</th>\n",
       "      <td>8.706885e+05</td>\n",
       "      <td>2.000000</td>\n",
       "      <td>1.000000</td>\n",
       "      <td>1.000000</td>\n",
       "      <td>1.000000</td>\n",
       "      <td>2.000000</td>\n",
       "      <td>1.000000</td>\n",
       "      <td>2.000000</td>\n",
       "      <td>1.000000</td>\n",
       "      <td>1.000000</td>\n",
       "      <td>2.000000</td>\n",
       "    </tr>\n",
       "    <tr>\n",
       "      <th>50%</th>\n",
       "      <td>1.171710e+06</td>\n",
       "      <td>4.000000</td>\n",
       "      <td>1.000000</td>\n",
       "      <td>1.000000</td>\n",
       "      <td>1.000000</td>\n",
       "      <td>2.000000</td>\n",
       "      <td>1.000000</td>\n",
       "      <td>3.000000</td>\n",
       "      <td>1.000000</td>\n",
       "      <td>1.000000</td>\n",
       "      <td>2.000000</td>\n",
       "    </tr>\n",
       "    <tr>\n",
       "      <th>75%</th>\n",
       "      <td>1.238298e+06</td>\n",
       "      <td>6.000000</td>\n",
       "      <td>5.000000</td>\n",
       "      <td>5.000000</td>\n",
       "      <td>4.000000</td>\n",
       "      <td>4.000000</td>\n",
       "      <td>5.000000</td>\n",
       "      <td>5.000000</td>\n",
       "      <td>4.000000</td>\n",
       "      <td>1.000000</td>\n",
       "      <td>4.000000</td>\n",
       "    </tr>\n",
       "    <tr>\n",
       "      <th>max</th>\n",
       "      <td>1.345435e+07</td>\n",
       "      <td>10.000000</td>\n",
       "      <td>10.000000</td>\n",
       "      <td>10.000000</td>\n",
       "      <td>10.000000</td>\n",
       "      <td>10.000000</td>\n",
       "      <td>10.000000</td>\n",
       "      <td>10.000000</td>\n",
       "      <td>10.000000</td>\n",
       "      <td>10.000000</td>\n",
       "      <td>4.000000</td>\n",
       "    </tr>\n",
       "  </tbody>\n",
       "</table>\n",
       "</div>"
      ],
      "text/plain": [
       "                 id  clump_thickness  uniformity_cell_size  \\\n",
       "count  6.990000e+02       699.000000            699.000000   \n",
       "mean   1.071704e+06         4.417740              3.134478   \n",
       "std    6.170957e+05         2.815741              3.051459   \n",
       "min    6.163400e+04         1.000000              1.000000   \n",
       "25%    8.706885e+05         2.000000              1.000000   \n",
       "50%    1.171710e+06         4.000000              1.000000   \n",
       "75%    1.238298e+06         6.000000              5.000000   \n",
       "max    1.345435e+07        10.000000             10.000000   \n",
       "\n",
       "       uniformity_cell_shape  marginal_adhesion  single_epithelial_cell_size  \\\n",
       "count             699.000000         699.000000                   699.000000   \n",
       "mean                3.207439           2.806867                     3.216023   \n",
       "std                 2.971913           2.855379                     2.214300   \n",
       "min                 1.000000           1.000000                     1.000000   \n",
       "25%                 1.000000           1.000000                     2.000000   \n",
       "50%                 1.000000           1.000000                     2.000000   \n",
       "75%                 5.000000           4.000000                     4.000000   \n",
       "max                10.000000          10.000000                    10.000000   \n",
       "\n",
       "       bare_nuclei  bland_chromatin  normal_nucleoli     mitoses       class  \n",
       "count   699.000000       699.000000       699.000000  699.000000  699.000000  \n",
       "mean      3.486409         3.437768         2.866953    1.589413    2.689557  \n",
       "std       3.621929         2.438364         3.053634    1.715078    0.951273  \n",
       "min       1.000000         1.000000         1.000000    1.000000    2.000000  \n",
       "25%       1.000000         2.000000         1.000000    1.000000    2.000000  \n",
       "50%       1.000000         3.000000         1.000000    1.000000    2.000000  \n",
       "75%       5.000000         5.000000         4.000000    1.000000    4.000000  \n",
       "max      10.000000        10.000000        10.000000   10.000000    4.000000  "
      ]
     },
     "execution_count": 6,
     "metadata": {},
     "output_type": "execute_result"
    }
   ],
   "source": [
    "import numpy as np\n",
    "\n",
    "df.describe(include=(np.number))"
   ]
  },
  {
   "cell_type": "markdown",
   "id": "a7aec378",
   "metadata": {
    "papermill": {
     "duration": 0.003881,
     "end_time": "2025-04-17T19:17:25.083976",
     "exception": false,
     "start_time": "2025-04-17T19:17:25.080095",
     "status": "completed"
    },
    "tags": []
   },
   "source": [
    "**Map class labels: 2 → 0 (benign), 4 → 1 (malignant)**"
   ]
  },
  {
   "cell_type": "code",
   "execution_count": 7,
   "id": "75bccdb6",
   "metadata": {
    "execution": {
     "iopub.execute_input": "2025-04-17T19:17:25.092650Z",
     "iopub.status.busy": "2025-04-17T19:17:25.092468Z",
     "iopub.status.idle": "2025-04-17T19:17:25.100184Z",
     "shell.execute_reply": "2025-04-17T19:17:25.099671Z"
    },
    "papermill": {
     "duration": 0.013304,
     "end_time": "2025-04-17T19:17:25.101298",
     "exception": false,
     "start_time": "2025-04-17T19:17:25.087994",
     "status": "completed"
    },
    "tags": []
   },
   "outputs": [],
   "source": [
    "df['class'] = df['class'].map({2: 0, 4: 1})"
   ]
  },
  {
   "cell_type": "markdown",
   "id": "ea9d9978",
   "metadata": {
    "papermill": {
     "duration": 0.003895,
     "end_time": "2025-04-17T19:17:25.109290",
     "exception": false,
     "start_time": "2025-04-17T19:17:25.105395",
     "status": "completed"
    },
    "tags": []
   },
   "source": [
    "**Split features (X) and target (y)**"
   ]
  },
  {
   "cell_type": "code",
   "execution_count": 8,
   "id": "72df1b5f",
   "metadata": {
    "execution": {
     "iopub.execute_input": "2025-04-17T19:17:25.118231Z",
     "iopub.status.busy": "2025-04-17T19:17:25.117775Z",
     "iopub.status.idle": "2025-04-17T19:17:25.123670Z",
     "shell.execute_reply": "2025-04-17T19:17:25.122927Z"
    },
    "papermill": {
     "duration": 0.01145,
     "end_time": "2025-04-17T19:17:25.124710",
     "exception": false,
     "start_time": "2025-04-17T19:17:25.113260",
     "status": "completed"
    },
    "tags": []
   },
   "outputs": [],
   "source": [
    "X = df.drop(['id', 'class'], axis=1).values\n",
    "y = df['class'].values"
   ]
  },
  {
   "cell_type": "code",
   "execution_count": 9,
   "id": "aeb94b41",
   "metadata": {
    "execution": {
     "iopub.execute_input": "2025-04-17T19:17:25.133465Z",
     "iopub.status.busy": "2025-04-17T19:17:25.133266Z",
     "iopub.status.idle": "2025-04-17T19:17:25.138738Z",
     "shell.execute_reply": "2025-04-17T19:17:25.137930Z"
    },
    "papermill": {
     "duration": 0.010966,
     "end_time": "2025-04-17T19:17:25.139784",
     "exception": false,
     "start_time": "2025-04-17T19:17:25.128818",
     "status": "completed"
    },
    "tags": []
   },
   "outputs": [
    {
     "data": {
      "text/plain": [
       "id                               int64\n",
       "clump_thickness                  int64\n",
       "uniformity_cell_size             int64\n",
       "uniformity_cell_shape            int64\n",
       "marginal_adhesion                int64\n",
       "single_epithelial_cell_size      int64\n",
       "bare_nuclei                    float64\n",
       "bland_chromatin                  int64\n",
       "normal_nucleoli                  int64\n",
       "mitoses                          int64\n",
       "class                            int64\n",
       "dtype: object"
      ]
     },
     "execution_count": 9,
     "metadata": {},
     "output_type": "execute_result"
    }
   ],
   "source": [
    "df.dtypes"
   ]
  },
  {
   "cell_type": "code",
   "execution_count": 10,
   "id": "e5458f15",
   "metadata": {
    "execution": {
     "iopub.execute_input": "2025-04-17T19:17:25.149097Z",
     "iopub.status.busy": "2025-04-17T19:17:25.148479Z",
     "iopub.status.idle": "2025-04-17T19:17:25.152502Z",
     "shell.execute_reply": "2025-04-17T19:17:25.151997Z"
    },
    "papermill": {
     "duration": 0.009669,
     "end_time": "2025-04-17T19:17:25.153534",
     "exception": false,
     "start_time": "2025-04-17T19:17:25.143865",
     "status": "completed"
    },
    "tags": []
   },
   "outputs": [],
   "source": [
    "# Standard normalization\n",
    "X_mean = X.mean(axis=0)\n",
    "X_std = X.std(axis=0)\n",
    "X = (X - X_mean) / X_std"
   ]
  },
  {
   "cell_type": "code",
   "execution_count": 11,
   "id": "160038f4",
   "metadata": {
    "execution": {
     "iopub.execute_input": "2025-04-17T19:17:25.162833Z",
     "iopub.status.busy": "2025-04-17T19:17:25.162657Z",
     "iopub.status.idle": "2025-04-17T19:17:26.526010Z",
     "shell.execute_reply": "2025-04-17T19:17:26.525088Z"
    },
    "papermill": {
     "duration": 1.369256,
     "end_time": "2025-04-17T19:17:26.527352",
     "exception": false,
     "start_time": "2025-04-17T19:17:25.158096",
     "status": "completed"
    },
    "tags": []
   },
   "outputs": [
    {
     "name": "stdout",
     "output_type": "stream",
     "text": [
      "Train: (419, 9), Valid: (140, 9), Test: (140, 9)\n"
     ]
    }
   ],
   "source": [
    "from sklearn.model_selection import train_test_split\n",
    "\n",
    "# Split into train (60%), validation (20%), and test (20%)\n",
    "X_train, X_temp, y_train, y_temp = train_test_split(X, y, test_size=0.4, random_state=42)\n",
    "X_valid, X_test, y_valid, y_test = train_test_split(X_temp, y_temp, test_size=0.5, random_state=42)\n",
    "\n",
    "print(f\"Train: {X_train.shape}, Valid: {X_valid.shape}, Test: {X_test.shape}\")"
   ]
  },
  {
   "cell_type": "code",
   "execution_count": 12,
   "id": "4dfedafb",
   "metadata": {
    "execution": {
     "iopub.execute_input": "2025-04-17T19:17:26.537058Z",
     "iopub.status.busy": "2025-04-17T19:17:26.536710Z",
     "iopub.status.idle": "2025-04-17T19:17:31.031515Z",
     "shell.execute_reply": "2025-04-17T19:17:31.030561Z"
    },
    "papermill": {
     "duration": 4.501203,
     "end_time": "2025-04-17T19:17:31.033031",
     "exception": false,
     "start_time": "2025-04-17T19:17:26.531828",
     "status": "completed"
    },
    "tags": []
   },
   "outputs": [],
   "source": [
    "import torch\n",
    "import torch.nn as nn\n",
    "\n",
    "# Convert data to PyTorch tensors (using your X_train/X_valid split)\n",
    "t_indep = torch.tensor(X_train, dtype=torch.float)\n",
    "t_dep = torch.tensor(y_train, dtype=torch.float).unsqueeze(1)  # Shape (n, 1)\n",
    "t_valid_indep = torch.tensor(X_valid, dtype=torch.float)\n",
    "t_valid_dep = torch.tensor(y_valid, dtype=torch.float).unsqueeze(1)"
   ]
  },
  {
   "cell_type": "code",
   "execution_count": 13,
   "id": "1c5c3480",
   "metadata": {
    "execution": {
     "iopub.execute_input": "2025-04-17T19:17:31.044010Z",
     "iopub.status.busy": "2025-04-17T19:17:31.043609Z",
     "iopub.status.idle": "2025-04-17T19:17:31.047924Z",
     "shell.execute_reply": "2025-04-17T19:17:31.047351Z"
    },
    "papermill": {
     "duration": 0.01097,
     "end_time": "2025-04-17T19:17:31.048961",
     "exception": false,
     "start_time": "2025-04-17T19:17:31.037991",
     "status": "completed"
    },
    "tags": []
   },
   "outputs": [],
   "source": [
    "class LogisticRegression(nn.Module):\n",
    "    def __init__(self, in_features):\n",
    "        super().__init__()\n",
    "        self.linear = nn.Linear(in_features, 1)\n",
    "        self.sigmoid = nn.Sigmoid()\n",
    "    \n",
    "    def forward(self, x):\n",
    "        return self.sigmoid(self.linear(x))"
   ]
  },
  {
   "cell_type": "code",
   "execution_count": 14,
   "id": "51907507",
   "metadata": {
    "execution": {
     "iopub.execute_input": "2025-04-17T19:17:31.058671Z",
     "iopub.status.busy": "2025-04-17T19:17:31.058467Z",
     "iopub.status.idle": "2025-04-17T19:17:35.546888Z",
     "shell.execute_reply": "2025-04-17T19:17:35.546306Z"
    },
    "papermill": {
     "duration": 4.494699,
     "end_time": "2025-04-17T19:17:35.548311",
     "exception": false,
     "start_time": "2025-04-17T19:17:31.053612",
     "status": "completed"
    },
    "tags": []
   },
   "outputs": [],
   "source": [
    "# Initialize model\n",
    "model = LogisticRegression(in_features=X_train.shape[1])\n",
    "criterion = nn.BCELoss()  # Binary Cross-Entropy\n",
    "optimizer = torch.optim.SGD(model.parameters(), lr=0.1)"
   ]
  },
  {
   "cell_type": "code",
   "execution_count": 15,
   "id": "e0e0599e",
   "metadata": {
    "execution": {
     "iopub.execute_input": "2025-04-17T19:17:35.559065Z",
     "iopub.status.busy": "2025-04-17T19:17:35.558187Z",
     "iopub.status.idle": "2025-04-17T19:17:35.786742Z",
     "shell.execute_reply": "2025-04-17T19:17:35.785837Z"
    },
    "papermill": {
     "duration": 0.234872,
     "end_time": "2025-04-17T19:17:35.787935",
     "exception": false,
     "start_time": "2025-04-17T19:17:35.553063",
     "status": "completed"
    },
    "tags": []
   },
   "outputs": [
    {
     "name": "stdout",
     "output_type": "stream",
     "text": [
      "Epoch 000 | Train Loss: 0.5654 | Val Loss: 0.4883\n",
      "Epoch 010 | Train Loss: 0.2662 | Val Loss: 0.2388\n",
      "Epoch 020 | Train Loss: 0.1969 | Val Loss: 0.1790\n",
      "Epoch 030 | Train Loss: 0.1667 | Val Loss: 0.1534\n",
      "Epoch 040 | Train Loss: 0.1499 | Val Loss: 0.1395\n",
      "Epoch 050 | Train Loss: 0.1393 | Val Loss: 0.1310\n",
      "Epoch 060 | Train Loss: 0.1319 | Val Loss: 0.1253\n",
      "Epoch 070 | Train Loss: 0.1266 | Val Loss: 0.1212\n",
      "Epoch 080 | Train Loss: 0.1225 | Val Loss: 0.1182\n",
      "Epoch 090 | Train Loss: 0.1192 | Val Loss: 0.1159\n"
     ]
    }
   ],
   "source": [
    "# Training loop with validation\n",
    "epochs = 100\n",
    "train_losses, val_losses = [], []\n",
    "\n",
    "for epoch in range(epochs):\n",
    "    # Training\n",
    "    model.train()\n",
    "    optimizer.zero_grad()\n",
    "    outputs = model(t_indep)\n",
    "    loss = criterion(outputs, t_dep)\n",
    "    loss.backward()\n",
    "    optimizer.step()\n",
    "    train_losses.append(loss.item())\n",
    "    \n",
    "    # Validation\n",
    "    model.eval()\n",
    "    with torch.no_grad():\n",
    "        val_outputs = model(t_valid_indep)\n",
    "        val_loss = criterion(val_outputs, t_valid_dep)\n",
    "        val_losses.append(val_loss.item())\n",
    "    \n",
    "    if epoch % 10 == 0:\n",
    "        print(f\"Epoch {epoch:03d} | Train Loss: {loss.item():.4f} | Val Loss: {val_loss.item():.4f}\")"
   ]
  },
  {
   "cell_type": "code",
   "execution_count": 16,
   "id": "94362013",
   "metadata": {
    "execution": {
     "iopub.execute_input": "2025-04-17T19:17:35.798572Z",
     "iopub.status.busy": "2025-04-17T19:17:35.797975Z",
     "iopub.status.idle": "2025-04-17T19:17:35.963382Z",
     "shell.execute_reply": "2025-04-17T19:17:35.962533Z"
    },
    "papermill": {
     "duration": 0.171913,
     "end_time": "2025-04-17T19:17:35.964574",
     "exception": false,
     "start_time": "2025-04-17T19:17:35.792661",
     "status": "completed"
    },
    "tags": []
   },
   "outputs": [
    {
     "data": {
      "image/png": "[encoded data removed]",
      "text/plain": [
       "<Figure size 800x400 with 1 Axes>"
      ]
     },
     "metadata": {},
     "output_type": "display_data"
    }
   ],
   "source": [
    "# Plot losses\n",
    "plt.figure(figsize=(8, 4))\n",
    "plt.plot(train_losses, label='Training Loss')\n",
    "plt.plot(val_losses, label='Validation Loss')\n",
    "plt.title(\"Logistic Regression: Training vs Validation Loss\")\n",
    "plt.xlabel(\"Epoch\")\n",
    "plt.ylabel(\"Loss\")\n",
    "plt.legend()\n",
    "plt.show()"
   ]
  },
  {
   "cell_type": "code",
   "execution_count": 17,
   "id": "2bf53e99",
   "metadata": {
    "execution": {
     "iopub.execute_input": "2025-04-17T19:17:35.975893Z",
     "iopub.status.busy": "2025-04-17T19:17:35.975461Z",
     "iopub.status.idle": "2025-04-17T19:17:35.979647Z",
     "shell.execute_reply": "2025-04-17T19:17:35.979154Z"
    },
    "papermill": {
     "duration": 0.010714,
     "end_time": "2025-04-17T19:17:35.980648",
     "exception": false,
     "start_time": "2025-04-17T19:17:35.969934",
     "status": "completed"
    },
    "tags": []
   },
   "outputs": [],
   "source": [
    "class Net(nn.Module):\n",
    "    def __init__(self, in_features):\n",
    "        super().__init__()\n",
    "        self.fc1 = nn.Linear(in_features, 4)  # Hidden layer with 4 neurons\n",
    "        self.relu = nn.ReLU()\n",
    "        self.fc2 = nn.Linear(4, 1)            # Output layer\n",
    "        self.sigmoid = nn.Sigmoid()\n",
    "    \n",
    "    def forward(self, x):\n",
    "        x = self.relu(self.fc1(x))\n",
    "        return self.sigmoid(self.fc2(x))"
   ]
  },
  {
   "cell_type": "code",
   "execution_count": 18,
   "id": "7e51aa0a",
   "metadata": {
    "execution": {
     "iopub.execute_input": "2025-04-17T19:17:35.991356Z",
     "iopub.status.busy": "2025-04-17T19:17:35.990933Z",
     "iopub.status.idle": "2025-04-17T19:17:35.995560Z",
     "shell.execute_reply": "2025-04-17T19:17:35.994853Z"
    },
    "papermill": {
     "duration": 0.011101,
     "end_time": "2025-04-17T19:17:35.996617",
     "exception": false,
     "start_time": "2025-04-17T19:17:35.985516",
     "status": "completed"
    },
    "tags": []
   },
   "outputs": [],
   "source": [
    "# Initialize network\n",
    "net = Net(in_features=X_train.shape[1])\n",
    "optimizer = torch.optim.SGD(net.parameters(), lr=0.1)"
   ]
  },
  {
   "cell_type": "code",
   "execution_count": 19,
   "id": "26ac247c",
   "metadata": {
    "execution": {
     "iopub.execute_input": "2025-04-17T19:17:36.007203Z",
     "iopub.status.busy": "2025-04-17T19:17:36.006934Z",
     "iopub.status.idle": "2025-04-17T19:17:36.122376Z",
     "shell.execute_reply": "2025-04-17T19:17:36.121604Z"
    },
    "papermill": {
     "duration": 0.122146,
     "end_time": "2025-04-17T19:17:36.123640",
     "exception": false,
     "start_time": "2025-04-17T19:17:36.001494",
     "status": "completed"
    },
    "tags": []
   },
   "outputs": [
    {
     "name": "stdout",
     "output_type": "stream",
     "text": [
      "Epoch 000 | Train Loss: 0.7295 | Val Loss: 0.7407\n",
      "Epoch 010 | Train Loss: 0.6417 | Val Loss: 0.6541\n",
      "Epoch 020 | Train Loss: 0.5730 | Val Loss: 0.5847\n",
      "Epoch 030 | Train Loss: 0.4892 | Val Loss: 0.4961\n",
      "Epoch 040 | Train Loss: 0.3903 | Val Loss: 0.3881\n",
      "Epoch 050 | Train Loss: 0.2868 | Val Loss: 0.2761\n",
      "Epoch 060 | Train Loss: 0.2084 | Val Loss: 0.1963\n",
      "Epoch 070 | Train Loss: 0.1637 | Val Loss: 0.1538\n",
      "Epoch 080 | Train Loss: 0.1395 | Val Loss: 0.1322\n",
      "Epoch 090 | Train Loss: 0.1254 | Val Loss: 0.1204\n"
     ]
    }
   ],
   "source": [
    "# Training loop\n",
    "train_losses, val_losses = [], []\n",
    "\n",
    "for epoch in range(epochs):\n",
    "    # Training\n",
    "    net.train()\n",
    "    optimizer.zero_grad()\n",
    "    preds = net(t_indep)\n",
    "    loss = criterion(preds, t_dep)\n",
    "    loss.backward()\n",
    "    optimizer.step()\n",
    "    train_losses.append(loss.item())\n",
    "    \n",
    "    # Validation\n",
    "    net.eval()\n",
    "    with torch.no_grad():\n",
    "        val_preds = net(t_valid_indep)\n",
    "        val_loss = criterion(val_preds, t_valid_dep)\n",
    "        val_losses.append(val_loss.item())\n",
    "    \n",
    "    if epoch % 10 == 0:\n",
    "        print(f\"Epoch {epoch:03d} | Train Loss: {loss.item():.4f} | Val Loss: {val_loss.item():.4f}\")"
   ]
  },
  {
   "cell_type": "code",
   "execution_count": 20,
   "id": "b03fb65e",
   "metadata": {
    "execution": {
     "iopub.execute_input": "2025-04-17T19:17:36.138357Z",
     "iopub.status.busy": "2025-04-17T19:17:36.138134Z",
     "iopub.status.idle": "2025-04-17T19:17:36.304849Z",
     "shell.execute_reply": "2025-04-17T19:17:36.304160Z"
    },
    "papermill": {
     "duration": 0.175023,
     "end_time": "2025-04-17T19:17:36.305938",
     "exception": false,
     "start_time": "2025-04-17T19:17:36.130915",
     "status": "completed"
    },
    "tags": []
   },
   "outputs": [
    {
     "data": {
      "image/png": "[encoded data removed]",
      "text/plain": [
       "<Figure size 800x400 with 1 Axes>"
      ]
     },
     "metadata": {},
     "output_type": "display_data"
    }
   ],
   "source": [
    "# Plot losses\n",
    "plt.figure(figsize=(8, 4))\n",
    "plt.plot(train_losses, label='Training Loss')\n",
    "plt.plot(val_losses, label='Validation Loss')\n",
    "plt.title(\"Neural Network: Training vs Validation Loss\")\n",
    "plt.xlabel(\"Epoch\")\n",
    "plt.ylabel(\"Loss\")\n",
    "plt.legend()\n",
    "plt.show()"
   ]
  },
  {
   "cell_type": "code",
   "execution_count": 21,
   "id": "53628f23",
   "metadata": {
    "execution": {
     "iopub.execute_input": "2025-04-17T19:17:36.318904Z",
     "iopub.status.busy": "2025-04-17T19:17:36.318686Z",
     "iopub.status.idle": "2025-04-17T19:17:36.916679Z",
     "shell.execute_reply": "2025-04-17T19:17:36.916141Z"
    },
    "papermill": {
     "duration": 0.605614,
     "end_time": "2025-04-17T19:17:36.917979",
     "exception": false,
     "start_time": "2025-04-17T19:17:36.312365",
     "status": "completed"
    },
    "tags": []
   },
   "outputs": [],
   "source": [
    "from sklearn.metrics import accuracy_score, precision_score, recall_score, confusion_matrix\n",
    "import seaborn as sns\n",
    "\n",
    "def evaluate_model(model, X, y, model_name):\n",
    "    # Convert data to tensor\n",
    "    X_tensor = torch.tensor(X, dtype=torch.float)\n",
    "    model.eval()\n",
    "    \n",
    "    with torch.no_grad():\n",
    "        # Get predictions and convert to binary (0 or 1)\n",
    "        preds = (model(X_tensor) > 0.5).float().numpy()\n",
    "    \n",
    "    # Calculate metrics\n",
    "    accuracy = accuracy_score(y, preds)\n",
    "    precision = precision_score(y, preds)\n",
    "    recall = recall_score(y, preds)\n",
    "    cm = confusion_matrix(y, preds)\n",
    "    \n",
    "    # Plot confusion matrix\n",
    "    plt.figure(figsize=(5, 4))\n",
    "    sns.heatmap(cm, annot=True, fmt='d', cmap='Blues', \n",
    "                xticklabels=['Benign', 'Malignant'], \n",
    "                yticklabels=['Benign', 'Malignant'])\n",
    "    plt.title(f'{model_name} Confusion Matrix')\n",
    "    plt.ylabel('True Label')\n",
    "    plt.xlabel('Predicted Label')\n",
    "    plt.show()\n",
    "    \n",
    "    return accuracy, precision, recall, cm"
   ]
  },
  {
   "cell_type": "code",
   "execution_count": 22,
   "id": "47adb06e",
   "metadata": {
    "execution": {
     "iopub.execute_input": "2025-04-17T19:17:36.931328Z",
     "iopub.status.busy": "2025-04-17T19:17:36.930933Z",
     "iopub.status.idle": "2025-04-17T19:17:37.250176Z",
     "shell.execute_reply": "2025-04-17T19:17:37.249331Z"
    },
    "papermill": {
     "duration": 0.327281,
     "end_time": "2025-04-17T19:17:37.251477",
     "exception": false,
     "start_time": "2025-04-17T19:17:36.924196",
     "status": "completed"
    },
    "tags": []
   },
   "outputs": [
    {
     "name": "stdout",
     "output_type": "stream",
     "text": [
      "==================================================\n",
      "Logistic Regression Performance:\n"
     ]
    },
    {
     "data": {
      "image/png": "[encoded data removed]",
      "text/plain": [
       "<Figure size 500x400 with 2 Axes>"
      ]
     },
     "metadata": {},
     "output_type": "display_data"
    },
    {
     "name": "stdout",
     "output_type": "stream",
     "text": [
      "Accuracy:  0.9857\n",
      "Precision: 1.0000\n",
      "Recall:    0.9500\n",
      "\n",
      "==================================================\n",
      "Neural Network Performance:\n"
     ]
    },
    {
     "data": {
      "image/png": "[encoded data removed]",
      "text/plain": [
       "<Figure size 500x400 with 2 Axes>"
      ]
     },
     "metadata": {},
     "output_type": "display_data"
    },
    {
     "name": "stdout",
     "output_type": "stream",
     "text": [
      "Accuracy:  0.9857\n",
      "Precision: 1.0000\n",
      "Recall:    0.9500\n"
     ]
    }
   ],
   "source": [
    "# Evaluate on TEST set (using your existing X_valid/X_test split)\n",
    "print(\"=\"*50)\n",
    "print(\"Logistic Regression Performance:\")\n",
    "lr_accuracy, lr_precision, lr_recall, lr_cm = evaluate_model(model, X_test, y_test, \"Logistic Regression\")\n",
    "print(f\"Accuracy:  {lr_accuracy:.4f}\")\n",
    "print(f\"Precision: {lr_precision:.4f}\")\n",
    "print(f\"Recall:    {lr_recall:.4f}\")\n",
    "\n",
    "print(\"\\n\" + \"=\"*50)\n",
    "print(\"Neural Network Performance:\")\n",
    "nn_accuracy, nn_precision, nn_recall, nn_cm = evaluate_model(net, X_test, y_test, \"Neural Network\")\n",
    "print(f\"Accuracy:  {nn_accuracy:.4f}\")\n",
    "print(f\"Precision: {nn_precision:.4f}\")\n",
    "print(f\"Recall:    {nn_recall:.4f}\")"
   ]
  }
 ],
 "metadata": {
  "kaggle": {
   "accelerator": "nvidiaTeslaT4",
   "dataSources": [],
   "dockerImageVersionId": 31011,
   "isGpuEnabled": true,
   "isInternetEnabled": true,
   "language": "python",
   "sourceType": "notebook"
  },
  "kernelspec": {
   "display_name": "Python 3",
   "language": "python",
   "name": "python3"
  },
  "language_info": {
   "codemirror_mode": {
    "name": "ipython",
    "version": 3
   },
   "file_extension": ".py",
   "mimetype": "text/x-python",
   "name": "python",
   "nbconvert_exporter": "python",
   "pygments_lexer": "ipython3",
   "version": "3.11.11"
  },
  "papermill": {
   "default_parameters": {},
   "duration": 22.416147,
   "end_time": "2025-04-17T19:17:40.402915",
   "environment_variables": {},
   "exception": null,
   "input_path": "__notebook__.ipynb",
   "output_path": "__notebook__.ipynb",
   "parameters": {},
   "start_time": "2025-04-17T19:17:17.986768",
   "version": "2.6.0"
  }
 },
 "nbformat": 4,
 "nbformat_minor": 5
}
